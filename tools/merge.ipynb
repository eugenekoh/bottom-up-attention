{
 "cells": [
  {
   "cell_type": "code",
   "execution_count": 1,
   "metadata": {},
   "outputs": [],
   "source": [
    "import csv\n",
    "import sys\n",
    "from tqdm import tqdm\n",
    "from pathlib import Path\n",
    "import logging\n",
    "from collections import defaultdict\n",
    "import ast\n",
    "import pickle\n",
    "import pprint"
   ]
  },
  {
   "cell_type": "code",
   "execution_count": 17,
   "metadata": {},
   "outputs": [],
   "source": [
    "csv.field_size_limit(sys.maxsize)\n",
    "\n",
    "features_outfile = '../data/tsv/merged.features.tsv'\n",
    "labels_outfile = '../data/tsv/merged.labels.tsv'\n",
    "data_path = '../data/features'\n",
    "\n",
    "features_files = list(Path(data_path).glob('features.tsv.*'))\n",
    "labels_files = list(Path(data_path).glob('labels.tsv.*'))"
   ]
  },
  {
   "cell_type": "code",
   "execution_count": 3,
   "metadata": {},
   "outputs": [],
   "source": [
    "class Error:\n",
    "    def __init__(self):\n",
    "        self.dups = []\n",
    "        self.write_errors = []\n",
    "        self.parse_errors = []\n",
    "    def __str__(self):\n",
    "        dups = 'dups: ' + pprint.pformat(self.dups)\n",
    "        write = 'write: ' + pprint.pformat(self.write_errors)\n",
    "        parse = 'parse: ' + pprint.pformat(self.parse_errors)\n",
    "        return '\\n'.join([dups, write, parse])\n",
    "    def get_error(self):\n",
    "        error_types = []\n",
    "        if self.dups:\n",
    "            error_types.append('dups')\n",
    "        if self.write_errors:\n",
    "            error_types.append('write')\n",
    "        if self.parse_errors:\n",
    "            error_types.append('parse')\n",
    "        return error_types"
   ]
  },
  {
   "cell_type": "code",
   "execution_count": 4,
   "metadata": {},
   "outputs": [],
   "source": [
    "def validate(infiles):\n",
    "    image_ids = set()\n",
    "    def init():\n",
    "        return Error()\n",
    "    errors= defaultdict(lambda : init())\n",
    "    \n",
    "    with tqdm(total=210000) as pbar:\n",
    "        for infile in infiles:\n",
    "            with open(infile) as tsv_in_file:\n",
    "                reader = csv.reader(tsv_in_file, delimiter='\\t')\n",
    "                \n",
    "                for item in reader:\n",
    "                    \n",
    "                    image_id = item[0]\n",
    "                    \n",
    "                    # more than 2 fields\n",
    "                    if len(item) > 2:\n",
    "                        errors[image_id].write_errors.append(item)\n",
    "                    # list not stored correctly    \n",
    "                    else: \n",
    "                        try:\n",
    "                            ast.literal_eval(item[1])\n",
    "                        except:\n",
    "                            errors[image_id].parse_errors.append(item[1])\n",
    "\n",
    "                    # duplicates\n",
    "                    if image_id in image_ids:\n",
    "                        errors[image_id].dups.append(item)\n",
    "                        \n",
    "                    image_ids.add(image_id)\n",
    "                    pbar.update(1)\n",
    "    print(f\"found {len(image_ids)} unique ids\")\n",
    "    print(f\"found {len(errors)} errors\")\n",
    "    return image_ids, errors"
   ]
  },
  {
   "cell_type": "markdown",
   "metadata": {},
   "source": [
    "# Labels"
   ]
  },
  {
   "cell_type": "code",
   "execution_count": 5,
   "metadata": {},
   "outputs": [
    {
     "name": "stderr",
     "output_type": "stream",
     "text": [
      " 96%|█████████▌| 201371/210000 [02:10<00:05, 1547.99it/s]"
     ]
    },
    {
     "name": "stdout",
     "output_type": "stream",
     "text": [
      "found 201368 unique ids\n",
      "found 135 errors\n"
     ]
    },
    {
     "name": "stderr",
     "output_type": "stream",
     "text": [
      "\n"
     ]
    }
   ],
   "source": [
    "label_ids, label_errors = validate(labels_files)"
   ]
  },
  {
   "cell_type": "code",
   "execution_count": 6,
   "metadata": {},
   "outputs": [],
   "source": [
    "with open('labels.pkl', 'wb') as f:\n",
    "    pickle.dump((label_ids, dict(label_errors)), f)"
   ]
  },
  {
   "cell_type": "markdown",
   "metadata": {},
   "source": [
    "# Features"
   ]
  },
  {
   "cell_type": "code",
   "execution_count": 7,
   "metadata": {},
   "outputs": [
    {
     "name": "stderr",
     "output_type": "stream",
     "text": [
      " 96%|█████████▌| 201405/210000 [36:20<01:33, 92.36it/s] "
     ]
    },
    {
     "name": "stdout",
     "output_type": "stream",
     "text": [
      "found 201405 unique ids\n",
      "found 138 errors\n"
     ]
    },
    {
     "name": "stderr",
     "output_type": "stream",
     "text": [
      "\n"
     ]
    }
   ],
   "source": [
    "feature_ids, feature_errors = validate(features_files)"
   ]
  },
  {
   "cell_type": "code",
   "execution_count": 8,
   "metadata": {},
   "outputs": [],
   "source": [
    "with open('features.pkl', 'wb') as f:\n",
    "    pickle.dump((feature_ids, dict(feature_errors)), f)"
   ]
  },
  {
   "cell_type": "markdown",
   "metadata": {},
   "source": [
    "# Cleaned IDs"
   ]
  },
  {
   "cell_type": "code",
   "execution_count": 9,
   "metadata": {},
   "outputs": [],
   "source": [
    "# with open('labels.pkl', 'rb') as f:\n",
    "#     label_ids, label_errors = pickle.load(f)\n",
    "# with open('features.pkl', 'rb') as f:\n",
    "#     feature_ids, feature_errors = pickle.load(f)"
   ]
  },
  {
   "cell_type": "code",
   "execution_count": 10,
   "metadata": {},
   "outputs": [
    {
     "name": "stdout",
     "output_type": "stream",
     "text": [
      "201233\n",
      "201267\n"
     ]
    }
   ],
   "source": [
    "cleaned_labels = label_ids - set(label_errors.keys())\n",
    "cleaned_features = feature_ids - set(feature_errors.keys())\n",
    "\n",
    "print(len(cleaned_labels))\n",
    "print(len(cleaned_features))"
   ]
  },
  {
   "cell_type": "code",
   "execution_count": 11,
   "metadata": {},
   "outputs": [
    {
     "name": "stdout",
     "output_type": "stream",
     "text": [
      "201230\n"
     ]
    }
   ],
   "source": [
    "cleaned_ids = cleaned_labels.intersection(cleaned_features)\n",
    "\n",
    "print(len(cleaned_ids))"
   ]
  },
  {
   "cell_type": "code",
   "execution_count": 20,
   "metadata": {},
   "outputs": [],
   "source": [
    "with open('cleaned_ids.pkl' , 'wb') as f:\n",
    "    pickle.dump(cleaned_ids, f)"
   ]
  },
  {
   "cell_type": "markdown",
   "metadata": {},
   "source": [
    "# Merge TSV files"
   ]
  },
  {
   "cell_type": "code",
   "execution_count": 15,
   "metadata": {},
   "outputs": [
    {
     "name": "stderr",
     "output_type": "stream",
     "text": [
      " 96%|█████████▌| 201371/210000 [00:23<00:00, 8642.45it/s]\n"
     ]
    }
   ],
   "source": [
    "# read labels into memory\n",
    "labels = {}\n",
    "with tqdm(total=210000) as pbar:\n",
    "    for infile in labels_files:\n",
    "        with open(infile) as tsv_in_file:\n",
    "            reader = csv.reader(tsv_in_file, delimiter='\\t')\n",
    "            for item in reader:\n",
    "                if item[0] in cleaned_ids:\n",
    "                    labels[item[0]] = item\n",
    "                pbar.update(1)"
   ]
  },
  {
   "cell_type": "code",
   "execution_count": 16,
   "metadata": {},
   "outputs": [],
   "source": [
    "for i in labels.keys():\n",
    "    assert i in cleaned_ids"
   ]
  },
  {
   "cell_type": "code",
   "execution_count": 19,
   "metadata": {},
   "outputs": [
    {
     "name": "stderr",
     "output_type": "stream",
     "text": [
      " 66%|██████▌   | 132342/201230 [42:27<22:06, 51.94it/s] \n"
     ]
    },
    {
     "ename": "OSError",
     "evalue": "[Errno 5] Input/output error",
     "output_type": "error",
     "traceback": [
      "\u001b[0;31m---------------------------------------------------------------------------\u001b[0m",
      "\u001b[0;31mOSError\u001b[0m                                   Traceback (most recent call last)",
      "\u001b[0;32m<ipython-input-19-c30335b0c9da>\u001b[0m in \u001b[0;36m<module>\u001b[0;34m\u001b[0m\n\u001b[1;32m     21\u001b[0m                         \u001b[0;32mcontinue\u001b[0m\u001b[0;34m\u001b[0m\u001b[0;34m\u001b[0m\u001b[0m\n\u001b[1;32m     22\u001b[0m \u001b[0;34m\u001b[0m\u001b[0m\n\u001b[0;32m---> 23\u001b[0;31m                     \u001b[0mfeatures_writer\u001b[0m\u001b[0;34m.\u001b[0m\u001b[0mwriterow\u001b[0m\u001b[0;34m(\u001b[0m\u001b[0mitem\u001b[0m\u001b[0;34m)\u001b[0m\u001b[0;34m\u001b[0m\u001b[0;34m\u001b[0m\u001b[0m\n\u001b[0m\u001b[1;32m     24\u001b[0m                     \u001b[0mlabels_writer\u001b[0m\u001b[0;34m.\u001b[0m\u001b[0mwriterow\u001b[0m\u001b[0;34m(\u001b[0m\u001b[0mlabels\u001b[0m\u001b[0;34m[\u001b[0m\u001b[0mimage_id\u001b[0m\u001b[0;34m]\u001b[0m\u001b[0;34m)\u001b[0m\u001b[0;34m\u001b[0m\u001b[0;34m\u001b[0m\u001b[0m\n\u001b[1;32m     25\u001b[0m                     \u001b[0;32massert\u001b[0m \u001b[0mimage_id\u001b[0m \u001b[0;34m==\u001b[0m \u001b[0mlabels\u001b[0m\u001b[0;34m[\u001b[0m\u001b[0mimage_id\u001b[0m\u001b[0;34m]\u001b[0m\u001b[0;34m[\u001b[0m\u001b[0;36m0\u001b[0m\u001b[0;34m]\u001b[0m\u001b[0;34m\u001b[0m\u001b[0;34m\u001b[0m\u001b[0m\n",
      "\u001b[0;31mOSError\u001b[0m: [Errno 5] Input/output error"
     ]
    }
   ],
   "source": [
    "# merge tsv files\n",
    "with tqdm(total=len(cleaned_ids)) as pbar:\n",
    "    with open(features_outfile, 'w') as features_tsv, open(labels_outfile, 'w') as labels_tsv:\n",
    "        features_writer = csv.writer(features_tsv, delimiter = '\\t')   \n",
    "        labels_writer = csv.writer(labels_tsv, delimiter = '\\t')  \n",
    "        \n",
    "        dummy_writer = csv.writer(open(\"/dev/null\", 'w'), delimiter = '\\t')\n",
    "        \n",
    "        for infile in features_files:\n",
    "            with open(infile) as tsv_in_file:\n",
    "                reader = csv.reader(tsv_in_file, delimiter='\\t')\n",
    "                for item in reader:\n",
    "                    image_id = item[0]\n",
    "                    if image_id not in cleaned_ids:\n",
    "                        continue\n",
    "                    try:\n",
    "                        dummy_writer.writerow(item)\n",
    "                        dummy_writer.writerow(labels[image_id])\n",
    "                    except Exception as e:\n",
    "                        tqdm.write(f'error for {image_id}, {str(e)}')\n",
    "                        continue\n",
    "                    \n",
    "                    features_writer.writerow(item)\n",
    "                    labels_writer.writerow(labels[image_id])\n",
    "                    assert image_id == labels[image_id][0]\n",
    "                    pbar.update(1)"
   ]
  },
  {
   "cell_type": "code",
   "execution_count": null,
   "metadata": {},
   "outputs": [],
   "source": []
  }
 ],
 "metadata": {
  "kernelspec": {
   "display_name": "Python 3",
   "language": "python",
   "name": "python3"
  },
  "language_info": {
   "codemirror_mode": {
    "name": "ipython",
    "version": 3
   },
   "file_extension": ".py",
   "mimetype": "text/x-python",
   "name": "python",
   "nbconvert_exporter": "python",
   "pygments_lexer": "ipython3",
   "version": "3.8.5"
  }
 },
 "nbformat": 4,
 "nbformat_minor": 4
}
